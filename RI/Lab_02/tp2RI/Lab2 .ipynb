{
 "cells": [
  {
   "cell_type": "code",
   "execution_count": 1,
   "metadata": {},
   "outputs": [],
   "source": [
    "import nltk\n",
    "import re\n",
    "from nltk.tokenize import RegexpTokenizer\n",
    "from nltk.corpus import stopwords\n",
    "from nltk.stem.porter import PorterStemmer\n",
    "from collections import Counter\n",
    "from matplotlib import pyplot as plt"
   ]
  },
  {
   "cell_type": "code",
   "execution_count": 2,
   "metadata": {},
   "outputs": [
    {
     "name": "stdout",
     "output_type": "stream",
     "text": [
      "['TEXT: He likes to wink, he likes to drink ', 'TEXT: He likes to drink, and drink, and drink ', 'TEXT: The thing he likes to drink is ink ', 'TEXT: The ink he likes to drink is pink ', 'TEXT: He likes to wink, and drink pink ink ']\n"
     ]
    }
   ],
   "source": [
    "# from random import sample\n",
    "pattern='(TEXT: .+)'\n",
    "with open('collections/sample.txt','r') as file:\n",
    "    txt=file.read()\n",
    "    docs=re.findall(pattern, txt)\n",
    "print(docs)\n"
   ]
  },
  {
   "cell_type": "code",
   "execution_count": 3,
   "metadata": {},
   "outputs": [
    {
     "name": "stdout",
     "output_type": "stream",
     "text": [
      "['he', 'likes', 'to', 'wink', 'he', 'likes', 'to', 'drink']\n",
      "['he', 'likes', 'to', 'drink', 'and', 'drink', 'and', 'drink']\n",
      "['the', 'thing', 'he', 'likes', 'to', 'drink', 'is', 'ink']\n",
      "['the', 'ink', 'he', 'likes', 'to', 'drink', 'is', 'pink']\n",
      "['he', 'likes', 'to', 'wink', 'and', 'drink', 'pink', 'ink']\n"
     ]
    }
   ],
   "source": [
    "tokkenize = RegexpTokenizer(r\"\\w+\") \n",
    "new=[]\n",
    "porter =PorterStemmer() \n",
    "def preprocess(stp,stm): \n",
    "    for doc in docs:\n",
    "        tokenized= tokkenize.tokenize(doc) \n",
    "        lower= [word.lower() for word in tokenized]\n",
    "        words = ['text']\n",
    "        lower=[y for y in lower if not y in words]\n",
    "        if stp:\n",
    "            stopw = stopwords.words('english')\n",
    "            lower=[y for y in lower if not y in stopw]\n",
    "        if stm: \n",
    "            lower=[porter.stem(word) for word in lower]\n",
    "        new.append(lower)\n",
    "        \n",
    "preprocess(False,False)\n",
    "for y in new:\n",
    "    print(y)"
   ]
  },
  {
   "cell_type": "code",
   "execution_count": 4,
   "metadata": {},
   "outputs": [
    {
     "name": "stdout",
     "output_type": "stream",
     "text": [
      "['he likes to wink he likes to drink', 'he likes to drink and drink and drink', 'the thing he likes to drink is ink', 'the ink he likes to drink is pink', 'he likes to wink and drink pink ink']\n"
     ]
    }
   ],
   "source": [
    "final=[]\n",
    "for i in new:\n",
    "    final.append(' '.join(i))\n",
    "print(final)             \n"
   ]
  },
  {
   "cell_type": "code",
   "execution_count": 5,
   "metadata": {},
   "outputs": [
    {
     "name": "stdout",
     "output_type": "stream",
     "text": [
      "he 6\n",
      "likes 6\n",
      "to 6\n",
      "wink 2\n",
      "drink 7\n",
      "and 3\n",
      "the 2\n",
      "thing 1\n",
      "is 2\n",
      "ink 3\n",
      "pink 2\n",
      "{'he': [(0, 0), (0, 4), (1, 0), (2, 2), (3, 2), (4, 0)], 'likes': [(0, 1), (0, 5), (1, 1), (2, 3), (3, 3), (4, 1)], 'to': [(0, 2), (0, 6), (1, 2), (2, 4), (3, 4), (4, 2)], 'wink': [(0, 3), (4, 3)], 'drink': [(0, 7), (1, 3), (1, 5), (1, 7), (2, 5), (3, 5), (4, 5)], 'and': [(1, 4), (1, 6), (4, 4)], 'the': [(2, 0), (3, 0)], 'thing': [(2, 1)], 'is': [(2, 6), (3, 6)], 'ink': [(2, 7), (3, 1), (4, 7)], 'pink': [(3, 7), (4, 6)]}\n"
     ]
    }
   ],
   "source": [
    "def doc_pos_index(alist):\n",
    "    inv_index= {}\n",
    "    words = [word for line in alist for word in line.split(\" \")]\n",
    "    result = {}\n",
    "    for word in words:\n",
    "        inv_index[word] = []\n",
    "    for doc_id,doc in enumerate(alist):\n",
    "        for word_pos,word in enumerate(doc.split()):\n",
    "            result.setdefault(word,[]).append((doc_id,word_pos))\n",
    "\n",
    "    return result\n",
    "\n",
    "f=doc_pos_index(final)\n",
    "for key in f: \n",
    "    print(key, len(f[key]))\n",
    "print(f)\n"
   ]
  },
  {
   "cell_type": "code",
   "execution_count": 6,
   "metadata": {},
   "outputs": [],
   "source": [
    "file = open(\"mydict.txt\", \"w\")\n",
    "# converting dictionary into string and writing into file\n",
    "file.write( str(f))\n",
    "file.close()"
   ]
  },
  {
   "cell_type": "code",
   "execution_count": 7,
   "metadata": {},
   "outputs": [
    {
     "name": "stdout",
     "output_type": "stream",
     "text": [
      "[0, 0, 1, 2, 3, 4]\n"
     ]
    }
   ],
   "source": [
    "results=[]\n",
    "for i in range(len(f[\"he\"])):\n",
    "    results.append(f[\"he\"][i][0])\n",
    "print(results)"
   ]
  },
  {
   "cell_type": "code",
   "execution_count": 8,
   "metadata": {},
   "outputs": [
    {
     "name": "stdout",
     "output_type": "stream",
     "text": [
      "{'he': [0, 0, 1, 2, 3, 4], 'likes': [0, 0, 1, 2, 3, 4], 'to': [0, 0, 1, 2, 3, 4], 'wink': [0, 4], 'drink': [0, 1, 1, 1, 2, 3, 4], 'and': [1, 1, 4], 'the': [2, 3], 'thing': [2], 'is': [2, 3], 'ink': [2, 3, 4], 'pink': [3, 4]}\n"
     ]
    }
   ],
   "source": [
    "inverted_index={}\n",
    "results=[]\n",
    "for key in f:\n",
    "    for i in range (len(f[key])):\n",
    "        results.append(f[str(key)][i][0])\n",
    "    inverted_index[key]=results\n",
    "    results=[]\n",
    "print(inverted_index)"
   ]
  },
  {
   "cell_type": "code",
   "execution_count": 9,
   "metadata": {},
   "outputs": [
    {
     "name": "stdout",
     "output_type": "stream",
     "text": [
      "{'he': [0, 4, 0, 2, 2, 0], 'likes': [1, 5, 1, 3, 3, 1], 'to': [2, 6, 2, 4, 4, 2], 'wink': [3, 3], 'drink': [7, 3, 5, 7, 5, 5, 5], 'and': [4, 6, 4], 'the': [0, 0], 'thing': [1], 'is': [6, 6], 'ink': [7, 1, 7], 'pink': [7, 6]}\n"
     ]
    }
   ],
   "source": [
    "position={}\n",
    "results2=[]\n",
    "for key in f:\n",
    "    for i in range (len(f[key])):\n",
    "        results2.append(f[str(key)][i][1])\n",
    "    position[key]=results2\n",
    "    results2=[]\n",
    "print(position)"
   ]
  },
  {
   "cell_type": "code",
   "execution_count": 10,
   "metadata": {},
   "outputs": [
    {
     "data": {
      "text/plain": [
       "[0, 0, 1, 2, 3, 4]"
      ]
     },
     "execution_count": 10,
     "metadata": {},
     "output_type": "execute_result"
    }
   ],
   "source": [
    "posting_list = inverted_index['he']\n",
    "posting_list"
   ]
  },
  {
   "cell_type": "code",
   "execution_count": 11,
   "metadata": {},
   "outputs": [],
   "source": [
    "def or_postings(posting1, posting2):\n",
    "    p1 = 0\n",
    "    p2 = 0\n",
    "    result = list()\n",
    "    while p1 < len(posting1) and p2 < len(posting2):\n",
    "        if posting1[p1] == posting2[p2]:\n",
    "            result.append(posting1[p1])\n",
    "            p1 += 1\n",
    "            p2 += 1\n",
    "        elif posting1[p1] > posting2[p2]:\n",
    "            result.append(posting2[p2])\n",
    "            p2 += 1\n",
    "        else:\n",
    "            result.append(posting1[p1])\n",
    "            p1 += 1\n",
    "    while p1 < len(posting1):\n",
    "        result.append(posting1[p1])\n",
    "        p1 += 1\n",
    "    while p2 < len(posting2):\n",
    "        result.append(posting2[p2])\n",
    "        p2 += 1\n",
    "    return result"
   ]
  },
  {
   "cell_type": "code",
   "execution_count": 14,
   "metadata": {},
   "outputs": [
    {
     "ename": "TypeError",
     "evalue": "NOT() takes 1 positional argument but 2 were given",
     "output_type": "error",
     "traceback": [
      "\u001b[0;31m---------------------------------------------------------------------------\u001b[0m",
      "\u001b[0;31mTypeError\u001b[0m                                 Traceback (most recent call last)",
      "\u001b[1;32m/Users/Github/M2/S1/RI/Lab_02/tp2RI/Lab2 .ipynb Cell 12\u001b[0m line \u001b[0;36m3\n\u001b[1;32m      <a href='vscode-notebook-cell:/Users/Github/M2/S1/RI/Lab_02/tp2RI/Lab2%20.ipynb#X14sZmlsZQ%3D%3D?line=0'>1</a>\u001b[0m pl_1 \u001b[39m=\u001b[39m \u001b[39mlist\u001b[39m(inverted_index[\u001b[39m'\u001b[39m\u001b[39mhe\u001b[39m\u001b[39m'\u001b[39m])\n\u001b[1;32m      <a href='vscode-notebook-cell:/Users/Github/M2/S1/RI/Lab_02/tp2RI/Lab2%20.ipynb#X14sZmlsZQ%3D%3D?line=1'>2</a>\u001b[0m pl_2 \u001b[39m=\u001b[39m \u001b[39mlist\u001b[39m(inverted_index[\u001b[39m'\u001b[39m\u001b[39mwink\u001b[39m\u001b[39m'\u001b[39m])\n\u001b[0;32m----> <a href='vscode-notebook-cell:/Users/Github/M2/S1/RI/Lab_02/tp2RI/Lab2%20.ipynb#X14sZmlsZQ%3D%3D?line=2'>3</a>\u001b[0m NOT(pl_1, pl_2) \n",
      "\u001b[0;31mTypeError\u001b[0m: NOT() takes 1 positional argument but 2 were given"
     ]
    }
   ],
   "source": [
    "pl_1 = list(inverted_index['he'])\n",
    "pl_2 = list(inverted_index['wink'])\n",
    "or_postings(pl_1, pl_2) \n"
   ]
  },
  {
   "cell_type": "code",
   "execution_count": 13,
   "metadata": {},
   "outputs": [],
   "source": [
    "def NOT(posting):\n",
    "    result = list()\n",
    "    i = 0\n",
    "    for item in posting:\n",
    "        while i < item:\n",
    "            result.append(i)\n",
    "            i += 1\n",
    "        else:\n",
    "            i += 1\n",
    "    else:\n",
    "        while i < len(final):\n",
    "            result.append(i)\n",
    "            i += 1\n",
    "    return result"
   ]
  },
  {
   "cell_type": "code",
   "execution_count": null,
   "metadata": {},
   "outputs": [],
   "source": [
    "def and_postings(posting1, posting2):\n",
    "    p1 = 0\n",
    "    p2 = 0\n",
    "    result = list()\n",
    "    while p1 < len(posting1) and p2 < len(posting2):\n",
    "        if posting1[p1] == posting2[p2]:\n",
    "            result.append(posting1[p1])\n",
    "            p1 += 1\n",
    "            p2 += 1\n",
    "        elif posting1[p1] > posting2[p2]:\n",
    "            p2 += 1\n",
    "        else:\n",
    "            p1 += 1\n",
    "    return result"
   ]
  },
  {
   "cell_type": "code",
   "execution_count": null,
   "metadata": {},
   "outputs": [
    {
     "data": {
      "text/plain": [
       "[0, 1, 3, 4]"
      ]
     },
     "execution_count": 16,
     "metadata": {},
     "output_type": "execute_result"
    }
   ],
   "source": [
    "NOT(pl_1)"
   ]
  },
  {
   "cell_type": "code",
   "execution_count": null,
   "metadata": {},
   "outputs": [
    {
     "name": "stdout",
     "output_type": "stream",
     "text": [
      "['you', 'have']\n",
      "None\n"
     ]
    }
   ],
   "source": [
    "queryRaw=input('Enter your query - ')\n",
    "queryT=queryRaw.split()\n",
    "print(queryT)\n",
    "temp=None\n",
    "for index ,query in enumerate(queryT):\n",
    "    if query==\"AND\" and temp==None and queryT[index+1]!=\"NOT\":\n",
    "        temp=and_postings(list(inverted_index[queryT[index-1]]),list(inverted_index[queryT[index+1]]))\n",
    "    if query==\"AND\" and temp!=None and queryT[index+1]!=\"NOT\":\n",
    "        temp=and_postings(temp,list(inverted_index[queryT[index+1]]))\n",
    "    if query==\"AND\" and temp==None and queryT[index+1]==\"NOT\":\n",
    "        temp=and_postings(list(inverted_index[queryT[index-1]]),NOT(list(inverted_index[queryT[index+2]])))\n",
    "    if query==\"AND\" and temp!=None and queryT[index+1]==\"NOT\":        \n",
    "        temp=and_postings(temp,NOT(list(inverted_index[queryT[index+2]])))\n",
    "        \n",
    "    if query==\"OR\" and temp==None and queryT[index+1]!=\"NOT\":\n",
    "        temp=or_postings(list(inverted_index[queryT[index-1]]),list(inverted_index[queryT[index+1]]))\n",
    "    if query==\"OR\" and temp!=None and queryT[index+1]!=\"NOT\":\n",
    "        temp=or_postings(temp,list(inverted_index[queryT[index+1]]))\n",
    "    if query==\"OR\" and temp==None and queryT[index+1]==\"NOT\":\n",
    "        temp=or_postings(list(inverted_index[queryT[index-1]]),NOT(list(inverted_index[queryT[index+2]])))\n",
    "    if query==\"OR\" and temp!=None and queryT[index+1]==\"NOT\":        \n",
    "        temp=or_postings(temp,NOT(list(inverted_index[queryT[index+2]])))\n",
    "    \n",
    "    if query==\"NOT\" and index==0:\n",
    "        temp=NOT(list(inverted_index[queryT[index+1]]))       \n",
    "print(temp)"
   ]
  },
  {
   "cell_type": "code",
   "execution_count": null,
   "metadata": {},
   "outputs": [
    {
     "name": "stdout",
     "output_type": "stream",
     "text": [
      "['how', 'is', 'he']\n"
     ]
    },
    {
     "ename": "KeyError",
     "evalue": "'how'",
     "output_type": "error",
     "traceback": [
      "\u001b[0;31m---------------------------------------------------------------------------\u001b[0m",
      "\u001b[0;31mKeyError\u001b[0m                                  Traceback (most recent call last)",
      "\u001b[1;32m/Users/Github/M2/S1/RI/Lab_02/tp2RI/Lab2 .ipynb Cell 17\u001b[0m line \u001b[0;36m9\n\u001b[1;32m      <a href='vscode-notebook-cell:/Users/Github/M2/S1/RI/Lab_02/tp2RI/Lab2%20.ipynb#X22sZmlsZQ%3D%3D?line=6'>7</a>\u001b[0m     \u001b[39mprint\u001b[39m([\u001b[39m*\u001b[39m\u001b[39mset\u001b[39m(l)])\n\u001b[1;32m      <a href='vscode-notebook-cell:/Users/Github/M2/S1/RI/Lab_02/tp2RI/Lab2%20.ipynb#X22sZmlsZQ%3D%3D?line=7'>8</a>\u001b[0m \u001b[39mif\u001b[39;00m \u001b[39mlen\u001b[39m(queryT)\u001b[39m>\u001b[39m\u001b[39m1\u001b[39m:\n\u001b[0;32m----> <a href='vscode-notebook-cell:/Users/Github/M2/S1/RI/Lab_02/tp2RI/Lab2%20.ipynb#X22sZmlsZQ%3D%3D?line=8'>9</a>\u001b[0m     \u001b[39mprint\u001b[39m(f[\u001b[39mstr\u001b[39;49m(query)])\n",
      "\u001b[0;31mKeyError\u001b[0m: 'how'"
     ]
    }
   ],
   "source": [
    "queryRaw=input('Enter your query - ')\n",
    "queryT=queryRaw.split()\n",
    "print(queryT)\n",
    "for index ,query in enumerate(queryT):\n",
    "    if len(queryT)==1:\n",
    "        l=inverted_index[str(query)]\n",
    "        print([*set(l)])\n",
    "    if len(queryT)>1:\n",
    "        print(f[str(query)])"
   ]
  }
 ],
 "metadata": {
  "kernelspec": {
   "display_name": "Python 3.10.5 64-bit",
   "language": "python",
   "name": "python3"
  },
  "language_info": {
   "codemirror_mode": {
    "name": "ipython",
    "version": 3
   },
   "file_extension": ".py",
   "mimetype": "text/x-python",
   "name": "python",
   "nbconvert_exporter": "python",
   "pygments_lexer": "ipython3",
   "version": "3.11.2"
  },
  "orig_nbformat": 4,
  "vscode": {
   "interpreter": {
    "hash": "aee8b7b246df8f9039afb4144a1f6fd8d2ca17a180786b69acc140d282b71a49"
   }
  }
 },
 "nbformat": 4,
 "nbformat_minor": 2
}
